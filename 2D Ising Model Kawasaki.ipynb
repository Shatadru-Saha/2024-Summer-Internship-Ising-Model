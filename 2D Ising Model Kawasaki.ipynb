{
 "cells": [
  {
   "cell_type": "code",
   "execution_count": null,
   "id": "a4aa7a36-5d21-45a5-a035-1d15d4118799",
   "metadata": {},
   "outputs": [],
   "source": [
    "import numpy as np\n",
    "import matplotlib.pyplot as plt\n",
    "from scipy.optimize import curve_fit\n",
    "import sympy as sym\n",
    "from pylab import *\n",
    "from scipy.ndimage import measurements\n",
    "from copy import copy, deepcopy"
   ]
  },
  {
   "cell_type": "code",
   "execution_count": null,
   "id": "3cc37b8d-0508-4a64-b9dd-2ba3509f5181",
   "metadata": {},
   "outputs": [],
   "source": [
    "N = 30 #sets the grid size \n",
    "x = np.random.rand(N,N)"
   ]
  },
  {
   "cell_type": "code",
   "execution_count": null,
   "id": "02d9f7ae-402b-48d0-8009-894f08bed983",
   "metadata": {},
   "outputs": [],
   "source": [
    "for i in range(0,N):\n",
    "    for j in range(0,N):\n",
    "        if x[i,j] < 0.50:\n",
    "            x[i,j]=1\n",
    "        else:\n",
    "            x[i,j]=-1 #Generates a T= inf state"
   ]
  },
  {
   "cell_type": "code",
   "execution_count": null,
   "id": "bbbbe151-d4a0-4e26-b348-3842c048b6a3",
   "metadata": {},
   "outputs": [],
   "source": [
    "plt.imshow(x)\n",
    "#pt.colorbar() #Visualising the state"
   ]
  },
  {
   "cell_type": "markdown",
   "id": "945ba27d-1e2b-445d-9a28-8fc85e28bae3",
   "metadata": {},
   "source": [
    "<center> Thus we generate $x$ which is a NxN random array of 1 and -1  "
   ]
  },
  {
   "cell_type": "code",
   "execution_count": null,
   "id": "0962c365-34cf-4190-b2b2-a9421f6729d9",
   "metadata": {},
   "outputs": [],
   "source": [
    "# Gives us the energy associated with single spin\n",
    "def spin(x,i,j):\n",
    "    if i==N-1 and j==N-1:\n",
    "        return x[i,j]*(x[i,j-1] + x[0,j] + x[i,0] + x[i-1,j]) \n",
    "    elif i==N-1:\n",
    "        return x[i,j]*(x[i,j-1] + x[0,j] + x[i,j+1] + x[i-1,j])\n",
    "    elif j==N-1:\n",
    "        return x[i,j]*(x[i,j-1] + x[i+1,j] + x[i,0] + x[i-1,j])\n",
    "    else:\n",
    "        return x[i,j]*(x[i,j-1] + x[i+1,j] + x[i,j+1] + x[i-1,j]) "
   ]
  },
  {
   "cell_type": "code",
   "execution_count": null,
   "id": "6531d337-7e7a-43aa-8a54-83c9a9c87ceb",
   "metadata": {},
   "outputs": [],
   "source": [
    "#Gives us the energy of the state\n",
    "def Energy(array):\n",
    "    Enn=0\n",
    "    for i in range(0,N):\n",
    "        for j in range(0,N): \n",
    "            Enn = Enn - spin(array,i,j)\n",
    "    return (1/2)*Enn\n",
    "    "
   ]
  },
  {
   "cell_type": "code",
   "execution_count": null,
   "id": "d28219f2-1efe-459e-93cc-984d3450cc8a",
   "metadata": {},
   "outputs": [],
   "source": [
    "#Gives us the average cluster size of +1 spins\n",
    "def avg_size(arr):\n",
    "    a = deepcopy(arr)\n",
    "    a[a==-1]=0\n",
    "    lw, num = measurements.label(a)\n",
    "    area = measurements.sum(a, lw, index=arange(lw.max() + 1))\n",
    "    return area[1:].mean()"
   ]
  },
  {
   "cell_type": "markdown",
   "id": "3fafbe15-45d1-49da-bc23-2aa162b19e8e",
   "metadata": {},
   "source": [
    "<center> spin(i,j) gives us the associated energy of each spin; and Energy(x) gives us the hamiltonian of state and the mag(array) gives us the magnetisation of the state</center>"
   ]
  },
  {
   "cell_type": "code",
   "execution_count": null,
   "id": "aa2de227-0f72-4e09-8c60-330e5102ea25",
   "metadata": {},
   "outputs": [],
   "source": [
    "def choose_neighbour(p,q,n):\n",
    "    if p==N-1 and q== N-1:\n",
    "        if n==1:\n",
    "            return p,q-1\n",
    "        elif n==2:\n",
    "            return 0,q\n",
    "        elif n==3:\n",
    "            return p,0\n",
    "        elif n==4:\n",
    "            return p-1,q\n",
    "    elif p==N-1:\n",
    "        if n==1:\n",
    "            return p,q-1\n",
    "        elif n==2:\n",
    "            return 0,q\n",
    "        elif n==3:\n",
    "            return p,q+1\n",
    "        elif n==4:\n",
    "            return p-1,q\n",
    "    elif q==N-1:\n",
    "        if n==1:\n",
    "            return p,q-1\n",
    "        elif n==2:\n",
    "            return p+1,q\n",
    "        elif n==3:\n",
    "            return p,0\n",
    "        elif n==4:\n",
    "            return p-1,q\n",
    "    else:\n",
    "        if n==1:\n",
    "            return p,q-1\n",
    "        elif n==2:\n",
    "            return p+1,q\n",
    "        elif n==3:\n",
    "            return p,q+1\n",
    "        elif n==4:\n",
    "            return p-1,q"
   ]
  },
  {
   "cell_type": "code",
   "execution_count": null,
   "id": "d8394dfc-4d94-4445-b3c7-15b6697db63c",
   "metadata": {},
   "outputs": [],
   "source": [
    "#This function implements the metropolis algorithm and calculates the needed quantities\n",
    "def equilibrate(y,T):\n",
    "    H=Energy(y)\n",
    "    E_calc=[H]\n",
    "    sizes=[]\n",
    "    for i in range(5*10**4):\n",
    "        p = np.random.randint(0,N)\n",
    "        q = np.random.randint(0,N)\n",
    "        n=np.random.choice([1,2,3,4])\n",
    "        r,s = choose_neighbour(p,q,n)\n",
    "        dSp= -y[p,q] + y[r,s]\n",
    "        dE = dSp * (spin(y,r,s)/y[r,s] - spin(y,p,q)/y[p,q] + dSp)\n",
    "        if dE <=0 :\n",
    "            y[p,q] , y[r,s] = y[r,s] , y[p,q]\n",
    "            E_new = H +dE\n",
    "        else:\n",
    "            temp=np.random.rand()\n",
    "            prob = np.exp(-(dE)/T)\n",
    "            if temp<prob:\n",
    "                y[p,q] , y[r,s] = y[r,s] , y[p,q]\n",
    "                E_new = H+ dE\n",
    "            else:\n",
    "                E_new = H\n",
    "        E_calc.append(E_new)\n",
    "        H = E_new\n",
    "        size=avg_size(y)\n",
    "        sizes.append(size)\n",
    "\n",
    "    E_calc = np.array(E_calc)\n",
    "    return y, sizes\n"
   ]
  },
  {
   "cell_type": "code",
   "execution_count": null,
   "id": "7a67091f-481f-4dcd-b273-2313f3a236f3",
   "metadata": {},
   "outputs": [],
   "source": [
    "## The Following cells calculates the cluster sizes and then fits the log-log plot and then shows the plot.\n",
    "sizess=[]\n",
    "for i in range(15):\n",
    "    x = np.random.rand(N,N)\n",
    "    for i in range(0,N):\n",
    "        for j in range(0,N):\n",
    "            if x[i,j] < 0.6:\n",
    "                x[i,j]=1\n",
    "            else:\n",
    "                x[i,j]=-1\n",
    "    x,sizes = equilibrate(x,0.6)\n",
    "    sizess.append(sizes)"
   ]
  },
  {
   "cell_type": "code",
   "execution_count": null,
   "id": "f5ebe2c8-7a3b-49ab-ad80-05e54b7e1434",
   "metadata": {},
   "outputs": [],
   "source": [
    "npsz=np.array(sizess)\n",
    "sizes=0\n",
    "for i in range(15):\n",
    "    sizes += npsz[i]\n",
    "sizes= np.array(sizes) / len(npsz)"
   ]
  },
  {
   "cell_type": "code",
   "execution_count": null,
   "id": "17078045-bb60-4885-ab23-bd83a9faefa6",
   "metadata": {},
   "outputs": [],
   "source": [
    "mc_steps=np.arange(0,5*10**4)"
   ]
  },
  {
   "cell_type": "code",
   "execution_count": null,
   "id": "5d25f684-22a0-48cd-a71d-1e3d2f0e59ae",
   "metadata": {},
   "outputs": [],
   "source": [
    "def gro(x,a,b):\n",
    "    return a+x*b"
   ]
  },
  {
   "cell_type": "code",
   "execution_count": null,
   "id": "b80a2f36-01c0-4a39-905a-601a3edac511",
   "metadata": {},
   "outputs": [],
   "source": [
    "y_data = np.array(np.log(sizes)[10**2:],dtype=float)\n",
    "x_data = np.array(np.log(mc_steps)[10**2:],dtype = float)\n",
    "popt, pcov = curve_fit(gro, x_data, y_data, maxfev=10**6)"
   ]
  },
  {
   "cell_type": "code",
   "execution_count": null,
   "id": "b4813dd1-980a-4991-bbe9-bba79efbca05",
   "metadata": {},
   "outputs": [],
   "source": [
    "plt.plot(np.log(mc_steps)[10**3:], np.log(sizes)[10**3:],'.',markersize=5,label='Simulation Data')\n",
    "plt.plot(x_data[6*10**2:],(popt[0]+x_data*popt[1])[6*10**2:],label='$y=2.83+0.20x$')\n",
    "plt.xlabel('Monte Carlo Steps \\n towards equilibrium $k_BT=0.6$')\n",
    "plt.ylabel('Average Positive Spin Cluster Size')\n",
    "plt.title('Log-Log Plot')\n",
    "plt.legend()"
   ]
  },
  {
   "cell_type": "code",
   "execution_count": null,
   "id": "5a830945-6551-45bc-8fae-19be15719eb3",
   "metadata": {},
   "outputs": [],
   "source": [
    "#Defining the two-point correlation function\n",
    "def g(x,r):\n",
    "    sum = 0\n",
    "    for k in range(10**5):\n",
    "        i = np.random.randint(0,N)\n",
    "        j= np.random.randint(0,N)\n",
    "        sum += x[i,j]*(x[i-r,j])\n",
    "    return sum/(10**5)"
   ]
  },
  {
   "cell_type": "code",
   "execution_count": null,
   "id": "222a162c-bb9d-4a3f-a34d-d761b5526fd9",
   "metadata": {},
   "outputs": [],
   "source": [
    "#The following parts gets the two-point-correlation values for different temperatures,\n",
    "#fits it to get the correlation lengths at different temperatures then plots it\n",
    "g_T_s=[]\n",
    "r_s= [1,2,3,4,5,6,7,8,9,10]\n",
    "T_s = np.arange(2.2,4,0.05)\n",
    "for T in T_s:\n",
    "    y=equilibrate(x,T)\n",
    "    g_ss=[]\n",
    "    for i in range(0,10):\n",
    "        g_s=[]\n",
    "        for r in r_s:\n",
    "            g_r = g(y,r)\n",
    "            g_s.append(g_r)\n",
    "        g_ss.append(g_s)\n",
    "    g_ss_np=np.array(g_ss)\n",
    "    g_s_f=[]\n",
    "    temp=0\n",
    "    for i in range(len(g_ss)):\n",
    "        temp+=g_ss_np[i]\n",
    "    g_s_f=np.array(temp)/len(g_ss)\n",
    "    g_T_s.append(g_s_f)"
   ]
  },
  {
   "cell_type": "code",
   "execution_count": null,
   "id": "64530380-1ddb-4884-9e8c-bd95878915e7",
   "metadata": {},
   "outputs": [],
   "source": [
    "def func(x,a,b):\n",
    "    return a*np.exp(-x/b)"
   ]
  },
  {
   "cell_type": "code",
   "execution_count": null,
   "id": "38966714-7545-4430-877b-6bd62566dd7e",
   "metadata": {},
   "outputs": [],
   "source": [
    "x_data = np.array(r_s,dtype=float)\n",
    "corr_lengths =[]\n",
    "hm=[]\n",
    "for i in range(len(g_T_s)):\n",
    "    y_data = np.array(g_T_s[i],dtype = float)\n",
    "    popt, pcov = curve_fit(func, x_data , y_data , maxfev=10000)\n",
    "    corr_lengths.append(popt[1])\n",
    "    hm.append(popt)"
   ]
  },
  {
   "cell_type": "code",
   "execution_count": null,
   "id": "cddc50e3-c7a4-4aef-a573-65343d651498",
   "metadata": {},
   "outputs": [],
   "source": [
    "plt.plot(T_s[7:],corr_lengths[7:],'o--')\n",
    "plt.xlabel('$k_BT$')\n",
    "plt.ylabel('Correlation Length')"
   ]
  },
  {
   "cell_type": "code",
   "execution_count": null,
   "id": "9c2ee235-c64f-4ca4-a04f-adc99d1e7550",
   "metadata": {},
   "outputs": [],
   "source": [
    "def func2(x,b):\n",
    "    return abs(x-2.35)**(-b)"
   ]
  },
  {
   "cell_type": "code",
   "execution_count": null,
   "id": "af23cc7a-e55b-40ac-a6a3-a5159430e2fd",
   "metadata": {},
   "outputs": [],
   "source": [
    "popt, pcov = curve_fit(func2,T_s[7:],corr_lengths[7:], maxfev=100000)"
   ]
  },
  {
   "cell_type": "code",
   "execution_count": null,
   "id": "44df31ea-2cbd-4419-96b0-e89d9cf2a474",
   "metadata": {},
   "outputs": [],
   "source": [
    "fit_corr=abs(T_s-2.3)**(-popt[0])"
   ]
  },
  {
   "cell_type": "code",
   "execution_count": null,
   "id": "7b31c72c-22f4-4304-a4c3-d17d706f69d9",
   "metadata": {},
   "outputs": [],
   "source": [
    "plt.plot(T_s[7:],(np.array(corr_lengths)[7:]),'o--',label='Computed Data')\n",
    "plt.plot(T_s[6:], fit_corr[6:],label='Fitted plot, $f(T)=|T-2.3|^{-0.55}$')\n",
    "plt.legend()\n",
    "plt.xlabel('$K_BT$')\n",
    "plt.ylabel('Correlation Length')"
   ]
  },
  {
   "cell_type": "code",
   "execution_count": null,
   "id": "26780c1f-bf9b-42c1-98f0-75e8ef6f4fe4",
   "metadata": {},
   "outputs": [],
   "source": [
    "#After equilibration we use this to get the values of the observables\n",
    "def calculate(y,T):\n",
    "    H=Energy(y)\n",
    "    E_calc=[H]\n",
    "    for i in range(10**6):\n",
    "        p = np.random.randint(0,N)\n",
    "        q = np.random.randint(0,N)\n",
    "        n=np.random.choice([1,2,3,4])\n",
    "        r,s = choose_neighbour(p,q,n)\n",
    "        #if y[p,q] != y[r,s]:\n",
    "        dSp= -y[p,q] + y[r,s]\n",
    "        dE = dSp * (spin(y,r,s)/y[r,s] - spin(y,p,q)/y[p,q] + dSp)\n",
    "        if dE <=0 :\n",
    "            y[p,q] , y[r,s] = y[r,s] , y[p,q]\n",
    "            E_new = H +dE\n",
    "        else:\n",
    "            temp=np.random.rand()\n",
    "            prob = np.exp(-(dE)/T)\n",
    "            if temp<prob:\n",
    "                y[p,q] , y[r,s] = y[r,s] , y[p,q]\n",
    "                E_new = H+ dE\n",
    "            else:\n",
    "                E_new = H\n",
    "        E_calc.append(E_new)\n",
    "        H = E_new\n",
    "    E_calc = np.array(E_calc)\n",
    "    \n",
    "    E_avg= E_calc.mean()\n",
    "    C= E_calc.var()/T**2\n",
    "    return [E_avg , C]\n"
   ]
  },
  {
   "cell_type": "code",
   "execution_count": null,
   "id": "c8c08c4e-36c8-4177-b601-347016ab8634",
   "metadata": {},
   "outputs": [],
   "source": [
    "temp=np.arange(0.1,4,0.1) #Generating a set of temperatures "
   ]
  },
  {
   "cell_type": "code",
   "execution_count": null,
   "id": "0ca33421-d715-4f8a-8587-485c41527c57",
   "metadata": {},
   "outputs": [],
   "source": [
    "E_s=[]\n",
    "C_s=[]\n",
    "for T in temp:\n",
    "    y=np.array(x)\n",
    "    y= equilibrate(y,T)\n",
    "    E_avg, C =calculate(y,T)\n",
    "    E_s.append(E_avg)\n",
    "    C_s.append(C)\n",
    "#Running the metropolis algorithm on the state at different temperatures and plotting"
   ]
  },
  {
   "cell_type": "code",
   "execution_count": null,
   "id": "f3556ed3-3f0a-46a5-8608-dc49607687b7",
   "metadata": {},
   "outputs": [],
   "source": [
    "plt.plot(temp,E_s, 'o--')\n",
    "plt.xlabel('$k_bT$')\n",
    "plt.ylabel('$E_{avg}$')"
   ]
  },
  {
   "cell_type": "code",
   "execution_count": null,
   "id": "01bce16f-a462-484a-ae6c-9e28a8cf05d9",
   "metadata": {},
   "outputs": [],
   "source": [
    "plt.plot(temp, C_s, 'o--')\n",
    "plt.grid()\n",
    "plt.xlabel('$k_bT$')\n",
    "plt.ylabel('Heat Capacity')"
   ]
  }
 ],
 "metadata": {
  "kernelspec": {
   "display_name": "Python 3 (ipykernel)",
   "language": "python",
   "name": "python3"
  },
  "language_info": {
   "codemirror_mode": {
    "name": "ipython",
    "version": 3
   },
   "file_extension": ".py",
   "mimetype": "text/x-python",
   "name": "python",
   "nbconvert_exporter": "python",
   "pygments_lexer": "ipython3",
   "version": "3.11.7"
  }
 },
 "nbformat": 4,
 "nbformat_minor": 5
}
