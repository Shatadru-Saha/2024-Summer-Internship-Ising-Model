{
 "cells": [
  {
   "cell_type": "code",
   "execution_count": null,
   "id": "a4aa7a36-5d21-45a5-a035-1d15d4118799",
   "metadata": {},
   "outputs": [],
   "source": [
    "import numpy as np\n",
    "import matplotlib.pyplot as plt\n",
    "from scipy.optimize import curve_fit\n",
    "import sympy as sym\n",
    "from pylab import *\n",
    "from scipy.ndimage import measurements\n",
    "from copy import copy, deepcopy"
   ]
  },
  {
   "cell_type": "code",
   "execution_count": null,
   "id": "3cc37b8d-0508-4a64-b9dd-2ba3509f5181",
   "metadata": {},
   "outputs": [],
   "source": [
    "N = 30 #sets the grid size \n",
    "x = np.random.rand(N,N)"
   ]
  },
  {
   "cell_type": "code",
   "execution_count": null,
   "id": "02d9f7ae-402b-48d0-8009-894f08bed983",
   "metadata": {},
   "outputs": [],
   "source": [
    "for i in range(0,N):\n",
    "    for j in range(0,N):\n",
    "        if x[i,j] < 0.6:\n",
    "            x[i,j]=1\n",
    "        else:\n",
    "            x[i,j]=-1 #Generates a T= inf state"
   ]
  },
  {
   "cell_type": "code",
   "execution_count": null,
   "id": "abb8c8eb-44f5-411f-8ee2-e8edbcfa65e3",
   "metadata": {},
   "outputs": [],
   "source": [
    "#x=np.ones((N,N)) # Generates a array with all +1; i.e , a T=0 state"
   ]
  },
  {
   "cell_type": "code",
   "execution_count": null,
   "id": "bbbbe151-d4a0-4e26-b348-3842c048b6a3",
   "metadata": {},
   "outputs": [],
   "source": [
    "plt.imshow(x)\n",
    "#plt.colorbar() #Visualising the state"
   ]
  },
  {
   "cell_type": "markdown",
   "id": "945ba27d-1e2b-445d-9a28-8fc85e28bae3",
   "metadata": {},
   "source": [
    "<center> Thus we generate $x$ which is a NxN random array of 1 and -1  "
   ]
  },
  {
   "cell_type": "code",
   "execution_count": null,
   "id": "7a4f2c9a-6ad6-4024-85a8-5db72fb9d634",
   "metadata": {},
   "outputs": [],
   "source": [
    "#a=np.zeros((50,50))\n",
    "#a[a==0]=-1\n",
    "      #for i in range(50):\n",
    "    #for j in range(50):\n",
    "       # if i==j or i==(50-j):\n",
    "        #    a[i,j]=+1"
   ]
  },
  {
   "cell_type": "code",
   "execution_count": null,
   "id": "3956dddf-b65e-465f-a7d5-7e73904f8457",
   "metadata": {},
   "outputs": [],
   "source": [
    "#plt.imshow(a)"
   ]
  },
  {
   "cell_type": "code",
   "execution_count": null,
   "id": "5367f503-eb55-4c52-98ba-7eb908456a0a",
   "metadata": {},
   "outputs": [],
   "source": [
    "#avg_size(a)"
   ]
  },
  {
   "cell_type": "code",
   "execution_count": null,
   "id": "0962c365-34cf-4190-b2b2-a9421f6729d9",
   "metadata": {},
   "outputs": [],
   "source": [
    "# Gives us the energy associated with single spin\n",
    "def spin(i,j):\n",
    "    if i==N-1 and j==N-1:\n",
    "        return x[i,j]*(x[i,j-1] + x[0,j] + x[i,0] + x[i-1,j]) \n",
    "    elif i==N-1:\n",
    "        return x[i,j]*(x[i,j-1] + x[0,j] + x[i,j+1] + x[i-1,j])\n",
    "    elif j==N-1:\n",
    "        return x[i,j]*(x[i,j-1] + x[i+1,j] + x[i,0] + x[i-1,j])\n",
    "    else:\n",
    "        return x[i,j]*(x[i,j-1] + x[i+1,j] + x[i,j+1] + x[i-1,j]) "
   ]
  },
  {
   "cell_type": "code",
   "execution_count": null,
   "id": "6531d337-7e7a-43aa-8a54-83c9a9c87ceb",
   "metadata": {},
   "outputs": [],
   "source": [
    "#Gives us the energy of the state\n",
    "def Energy(array):\n",
    "    Enn=0\n",
    "    for i in range(0,N):\n",
    "        for j in range(0,N): \n",
    "            Enn = Enn - spin(i,j)\n",
    "    return (1/2)*Enn\n",
    "    "
   ]
  },
  {
   "cell_type": "code",
   "execution_count": null,
   "id": "6694e300-5128-4491-b27b-65fa2da9d59a",
   "metadata": {},
   "outputs": [],
   "source": [
    "#Gives us the magnetisation of the state\n",
    "def mag(array):\n",
    "    return array.sum()"
   ]
  },
  {
   "cell_type": "markdown",
   "id": "3fafbe15-45d1-49da-bc23-2aa162b19e8e",
   "metadata": {},
   "source": [
    "<center> spin(i,j) gives us the associated energy of each spin; and Energy(x) gives us the hamiltonian of state and the mag(array) gives us the magnetisation of the state</center>"
   ]
  },
  {
   "cell_type": "code",
   "execution_count": null,
   "id": "a9b1ac73-a1a5-43ce-adad-28160434d9b8",
   "metadata": {},
   "outputs": [],
   "source": [
    "#Gives us the average cluster size of +1 spins\n",
    "def avg_size(arr):\n",
    "    a = deepcopy(arr)\n",
    "    a[a==-1]=0\n",
    "    lw, num = measurements.label(a)\n",
    "    area = measurements.sum(a, lw, index=arange(lw.max() + 1))\n",
    "    return area[1:].mean()"
   ]
  },
  {
   "cell_type": "code",
   "execution_count": null,
   "id": "d8394dfc-4d94-4445-b3c7-15b6697db63c",
   "metadata": {},
   "outputs": [],
   "source": [
    "#This function implements the metropolis algorithm and calculates the needed quantities\n",
    "def equilibrate(y,T):\n",
    "    H = Energy(y)\n",
    "    m = mag(y)\n",
    "    steps=0\n",
    "    E_calc=[H]\n",
    "    M_calc=[m]\n",
    "    sizes=[]\n",
    "    for i in range(4*10**4):\n",
    "        p = np.random.randint(0,N)\n",
    "        q = np.random.randint(0,N)\n",
    "        spin_i=y[p,q]\n",
    "        dE = 2*spin(p,q)\n",
    "        if dE <=0:\n",
    "            y[p,q]=-y[p,q]\n",
    "            E_new = H + dE\n",
    "            m_new= m +(-2)*spin_i\n",
    "            size=avg_size(y)\n",
    "        else:\n",
    "            temp=np.random.rand()\n",
    "            prob = np.exp(-(dE)/T)\n",
    "            if temp < prob:\n",
    "                y[p,q]=-y[p,q]\n",
    "                E_new = H + dE\n",
    "                m_new= m +(-2)*spin_i\n",
    "                size=avg_size(y)\n",
    "            else:\n",
    "                E_new = H\n",
    "                m_new = m\n",
    "                size=avg_size(y)\n",
    "        H = E_new\n",
    "        m = m_new\n",
    "        E_calc.append(E_new)\n",
    "        M_calc.append(m_new)\n",
    "        sizes.append(size)\n",
    "        \n",
    "        \n",
    "        \n",
    "    \n",
    "    E_calc = np.array(E_calc)\n",
    "    M_calc = np.array(M_calc)\n",
    "    \n",
    "    \n",
    "    return y, E_calc, sizes"
   ]
  },
  {
   "cell_type": "code",
   "execution_count": null,
   "id": "5c8a4585-3278-43df-889b-37c112ccf90e",
   "metadata": {},
   "outputs": [],
   "source": [
    "## The Following cells calculates the cluster sizes and then fits the log-log plot and then shows the plot.\n",
    "sizess=[]\n",
    "for i in range(20):\n",
    "    x = np.random.rand(N,N)\n",
    "    for i in range(0,N):\n",
    "        for j in range(0,N):\n",
    "            if x[i,j] < 0.6:\n",
    "                x[i,j]=1\n",
    "            else:\n",
    "                x[i,j]=-1\n",
    "    x,Es, sizes = equilibrate(x,0.6)\n",
    "    sizess.append(sizes)"
   ]
  },
  {
   "cell_type": "code",
   "execution_count": null,
   "id": "c630ff4b-4986-4da2-aa39-e083144ae3e5",
   "metadata": {},
   "outputs": [],
   "source": [
    "npsz=np.array(sizess)\n",
    "sizes=0\n",
    "for i in range(len(npsz)):\n",
    "    sizes += npsz[i]\n",
    "sizes= np.array(sizes) / len(npsz)"
   ]
  },
  {
   "cell_type": "code",
   "execution_count": null,
   "id": "2904f189-687b-4943-a7d0-6d8d3e5baac2",
   "metadata": {},
   "outputs": [],
   "source": [
    "mc_steps=np.arange(0,4*10**4)"
   ]
  },
  {
   "cell_type": "code",
   "execution_count": null,
   "id": "7336a825-5bf5-4d24-83f1-cda40023b3a2",
   "metadata": {},
   "outputs": [],
   "source": [
    "def gro(x,a,b):\n",
    "    return a+x*b"
   ]
  },
  {
   "cell_type": "code",
   "execution_count": null,
   "id": "e6e48a70-ad63-4e59-a6a5-74f3cc6f7471",
   "metadata": {},
   "outputs": [],
   "source": [
    "y_data = np.array(np.log(sizes)[4*10**3:],dtype=float)\n",
    "x_data = np.array(np.log(mc_steps)[4*10**3:],dtype = float)\n",
    "popt, pcov = curve_fit(gro, x_data, y_data, maxfev=10**6)"
   ]
  },
  {
   "cell_type": "code",
   "execution_count": null,
   "id": "3ccc01fc-cd41-43d1-af18-398ccfe60086",
   "metadata": {},
   "outputs": [],
   "source": [
    "plt.plot((mc_steps), (sizes),label='Simulation Data')\n",
    "plt.plot(x_data,popt[0]+x_data*popt[1],label='$y=3.52+0.31x$')\n",
    "plt.xlabel('Monte Carlo Steps \\n towards equilibrium $k_BT=0.6$')\n",
    "plt.ylabel('Average Positive Spin Cluster Size')\n",
    "plt.title('Log-Log Plot')\n",
    "plt.legend()"
   ]
  },
  {
   "cell_type": "code",
   "execution_count": null,
   "id": "f42ef390-7036-4c2b-804b-0cd4374f4788",
   "metadata": {},
   "outputs": [],
   "source": [
    "#Defining the two-point correlation function\n",
    "def g(x,r):\n",
    "    sum = 0\n",
    "    for k in range(10**5):\n",
    "        i = np.random.randint(0,N)\n",
    "        j= np.random.randint(0,N)\n",
    "        sum += x[i,j]*(x[i-r,j])\n",
    "    return sum/(10**5)"
   ]
  },
  {
   "cell_type": "code",
   "execution_count": null,
   "id": "a160317f-59bc-4586-b9d0-78a30cb4208d",
   "metadata": {},
   "outputs": [],
   "source": [
    "#The following parts gets the two-point-correlation values for different temperatures,\n",
    "#fits it to get the correlation lengths at different temperatures then plots it\n",
    "g_T_s=[]\n",
    "r_s= [1,2,3,4,5,6,7,8,9,10]\n",
    "T_s = np.arange(0.1,5,0.1)\n",
    "for T in T_s:\n",
    "    y=equilibrate(x,T)\n",
    "    g_ss=[]\n",
    "    for i in range(0,10):\n",
    "        g_s=[]\n",
    "        for r in r_s:\n",
    "            g_r = g(y,r)\n",
    "            g_s.append(g_r)\n",
    "        g_ss.append(g_s)\n",
    "    g_ss_np=np.array(g_ss)\n",
    "    g_s_f=[]\n",
    "    temp=0\n",
    "    for i in range(len(g_ss)):\n",
    "        temp+=g_ss_np[i]\n",
    "    g_s_f=np.array(temp)/len(g_ss)\n",
    "    g_T_s.append(g_s_f)"
   ]
  },
  {
   "cell_type": "code",
   "execution_count": null,
   "id": "2961b958-a444-4dbd-bc75-1cc54d29612e",
   "metadata": {},
   "outputs": [],
   "source": [
    "def func(x,a,b,c,d):\n",
    "    return c+ a*np.exp(-x/b)*x**(-d)"
   ]
  },
  {
   "cell_type": "code",
   "execution_count": null,
   "id": "9aa8d13d-f638-49de-b8db-46e42be5e46e",
   "metadata": {},
   "outputs": [],
   "source": [
    "x_data = np.array(r_s,dtype=float)\n",
    "corr_lengths =[]\n",
    "hm=[]\n",
    "for i in range(len(g_T_s)):\n",
    "    y_data = np.array(g_T_s[i],dtype = float)\n",
    "    popt, pcov = curve_fit(func, x_data, y_data, maxfev=2000000)\n",
    "    corr_lengths.append(popt[1])\n",
    "    hm.append(popt)"
   ]
  },
  {
   "cell_type": "code",
   "execution_count": null,
   "id": "98cf9180-16bb-4cb4-9ef5-15fdf1580c46",
   "metadata": {},
   "outputs": [],
   "source": [
    "plt.plot(T_s,corr_lengths,'o--')\n",
    "plt.xlabel('$k_BT$')\n",
    "plt.ylabel('Correlation Length')"
   ]
  },
  {
   "cell_type": "code",
   "execution_count": null,
   "id": "55d846ea-3cb8-4222-a446-47536e975e4c",
   "metadata": {},
   "outputs": [],
   "source": [
    "def func2(x,b):\n",
    "    return abs(x-2.25)**(-b)"
   ]
  },
  {
   "cell_type": "code",
   "execution_count": null,
   "id": "082c0209-3958-4296-ba0f-27a3aa57d74b",
   "metadata": {},
   "outputs": [],
   "source": [
    "popt, pcov = curve_fit(func2,T_s[20:40],corr_lengths[20:40], maxfev=2*10**6)"
   ]
  },
  {
   "cell_type": "code",
   "execution_count": null,
   "id": "268973c2-0128-4383-adc9-bb1347a3faeb",
   "metadata": {},
   "outputs": [],
   "source": [
    "fit_corr=abs(T_s-2.25)**(-popt[0])"
   ]
  },
  {
   "cell_type": "code",
   "execution_count": null,
   "id": "59d9c39e-b1b0-4f9c-86b1-75d12fec7eb9",
   "metadata": {},
   "outputs": [],
   "source": [
    "plt.plot(T_s[20:40],corr_lengths[20:40],'o--',label='Computed Data')\n",
    "plt.plot(T_s[20:40], fit_corr[25:40],label='Fitted plot, $f(T)=|T-2.25|^{-0.96}$')\n",
    "plt.legend()\n",
    "plt.xlabel('$K_BT$')\n",
    "plt.ylabel('Correlation Length')"
   ]
  },
  {
   "cell_type": "code",
   "execution_count": null,
   "id": "26780c1f-bf9b-42c1-98f0-75e8ef6f4fe4",
   "metadata": {},
   "outputs": [],
   "source": [
    "#After equilibration we use this to get the values of the observables\n",
    "def calculate(x,T):\n",
    "    H = Energy(x)\n",
    "    m = mag(x)\n",
    "    steps=0\n",
    "    E_calc=[H]\n",
    "    M_calc=[m]\n",
    "    \n",
    "    for i in range(10**3):\n",
    "        p = np.random.randint(0,N)\n",
    "        q = np.random.randint(0,N)\n",
    "        spin_i=x[p,q]\n",
    "        steps = steps +1\n",
    "        dE = 2*spin(p,q)\n",
    "        if dE <=0:\n",
    "            x[p,q]=-x[p,q]\n",
    "            E_new = H + dE\n",
    "            m_new= m +(-2)*spin_i\n",
    "        else:\n",
    "            temp=np.random.rand()\n",
    "            prob = np.exp(-(dE)/T)\n",
    "            if temp < prob:\n",
    "                x[p,q]=-x[p,q]\n",
    "                E_new = H + dE\n",
    "                m_new= m +(-2)*spin_i\n",
    "            else:\n",
    "                E_new = H\n",
    "                m_new= m\n",
    "        H = E_new\n",
    "        m = m_new\n",
    "        E_calc.append(E_new)\n",
    "        M_calc.append(m_new)\n",
    "\n",
    "    E_calc = np.array(E_calc)\n",
    "    M_calc = np.array(M_calc)\n",
    "    \n",
    "    E_avg= E_calc.mean()\n",
    "    C= E_calc.std()/T**2\n",
    "    M_avg= M_calc.mean()\n",
    "    Chi = M_calc.std()/T\n",
    "    \n",
    "    M_avg = M_avg/ (N**2)\n",
    "    \n",
    "    return [E_avg , M_avg, C, Chi]\n"
   ]
  },
  {
   "cell_type": "code",
   "execution_count": null,
   "id": "42419c12-15ee-4474-b1ef-406620e186b4",
   "metadata": {},
   "outputs": [],
   "source": [
    "#Defining the autocorrelation function\n",
    "def corr(arr,dt):\n",
    "    t_max = len(arr)\n",
    "    return np.mean(arr[dt:t_max]*arr[:t_max-dt]) - np.mean(arr[dt:t_max])*np.mean(arr[:t_max-dt])"
   ]
  },
  {
   "cell_type": "code",
   "execution_count": null,
   "id": "eaa0cb85-3c5a-4f27-a4cb-1b20c48af3e0",
   "metadata": {},
   "outputs": [],
   "source": [
    "y=np.array(x)\n",
    "y, m_s = equilibrate(y,1.4)"
   ]
  },
  {
   "cell_type": "code",
   "execution_count": null,
   "id": "850a326b-385d-4362-af00-3f9994138476",
   "metadata": {},
   "outputs": [],
   "source": [
    "#The following parts calculates,plots the autocorrelation function at different temperatures.\n",
    "times = np.arange(1,10**4,1)\n",
    "corr_s = []\n",
    "for i in times:\n",
    "    cf = corr(m_s,i)\n",
    "    corr_s.append(cf)\n",
    "corr_s=np.array(corr_s) / corr_s[0]"
   ]
  },
  {
   "cell_type": "code",
   "execution_count": null,
   "id": "c7fdd376-6bad-48b5-a124-eaa49a41bf5b",
   "metadata": {},
   "outputs": [],
   "source": [
    "plt.plot(times,corr_s)\n",
    "plt.xlabel('Lag time')\n",
    "plt.ylabel('C(t)')"
   ]
  },
  {
   "cell_type": "code",
   "execution_count": null,
   "id": "a19c4b22-148d-4e54-8468-d3147277f989",
   "metadata": {},
   "outputs": [],
   "source": [
    "c_T_s=[]\n",
    "times = np.arange(1,5*10**3,1)\n",
    "T_s = [1.5,2,2.25,3.5,4.25]\n",
    "for T in T_s:\n",
    "    y=equilibrate(x,T)\n",
    "    e_avg,m_avg,c,chi, m_calc = calculate(x,T)\n",
    "    corr_s = []\n",
    "    for i in times:\n",
    "        cf = corr(m_calc,i)\n",
    "        corr_s.append(cf)\n",
    "    c_T_s.append(corr_s)"
   ]
  },
  {
   "cell_type": "code",
   "execution_count": null,
   "id": "a4c28ab9-c5fb-4bb3-92b6-00032a750ae3",
   "metadata": {},
   "outputs": [],
   "source": [
    "plt.plot(times,c_T_s[0],label='$k_BT=1.5$')\n",
    "plt.plot(times,c_T_s[1],label='$k_BT=2$')\n",
    "plt.plot(times,c_T_s[2],label='$k_BT=2.25$')\n",
    "plt.plot(times,c_T_s[3],label='$k_BT=3.5$')\n",
    "plt.plot(times,c_T_s[4],label='$k_BT=4.25$')\n",
    "plt.xlabel('Lag time, $t$')\n",
    "plt.ylabel('Correlation function, $C(t)$')\n",
    "plt.legend()"
   ]
  },
  {
   "cell_type": "code",
   "execution_count": null,
   "id": "3a14ec16-e28e-42f8-95ea-01bd4f4e62aa",
   "metadata": {},
   "outputs": [],
   "source": [
    "#The following fits the auto-correlation functions to get the correlation time at different temperatures, then plots it.\n",
    "def func2(x,a,b):\n",
    "    return a*np.exp(-x/b)"
   ]
  },
  {
   "cell_type": "code",
   "execution_count": null,
   "id": "6274c4bf-b2fc-4644-af87-eb43aebf999f",
   "metadata": {},
   "outputs": [],
   "source": [
    "\n",
    "T_s = np.arange(0.1,5,0.1)\n",
    "aladata=[]\n",
    "for T in T_s:\n",
    "    x=equilibrate(x,T)\n",
    "    e_avg,m_avg,c,chi, m_calc = calculate(x,T)\n",
    "    corr_s = []\n",
    "    for i in times:\n",
    "        cf = corr(m_calc,i)\n",
    "        corr_s.append(cf)\n",
    "    corr_s = np.array(corr_s)\n",
    "    aladata.append(corr_s)"
   ]
  },
  {
   "cell_type": "code",
   "execution_count": null,
   "id": "89800c29-52ba-408d-8b88-4dc05046c8b6",
   "metadata": {},
   "outputs": [],
   "source": [
    "x_data = np.array(times, dtype = float)\n",
    "lengths=[]\n",
    "for i in range(0,49):\n",
    "    y_data = np.array(aladata[i], dtype=float)\n",
    "    popt, pcov = curve_fit(func2, x_data , y_data , maxfev=20000)\n",
    "    lengths.append(popt[1])"
   ]
  },
  {
   "cell_type": "code",
   "execution_count": null,
   "id": "ee2abd41-1388-4348-b5a6-4293eba551b3",
   "metadata": {},
   "outputs": [],
   "source": [
    "plt.plot(T_s,lengths,'o--')\n",
    "plt.xlabel('$k_BT$')\n",
    "plt.ylabel('Correlation Time')"
   ]
  },
  {
   "cell_type": "code",
   "execution_count": null,
   "id": "c8c08c4e-36c8-4177-b601-347016ab8634",
   "metadata": {},
   "outputs": [],
   "source": [
    "temp=np.arange(0.1,5,0.1) #Generating a set of temperatures "
   ]
  },
  {
   "cell_type": "code",
   "execution_count": null,
   "id": "0ca33421-d715-4f8a-8587-485c41527c57",
   "metadata": {},
   "outputs": [],
   "source": [
    "E_s=[]\n",
    "M_s=[]\n",
    "C_s=[]\n",
    "Chi_s=[]\n",
    "for T in temp:\n",
    "    x=equilibrate(x,T)\n",
    "    E_avg,M_avg, C, Chi=calculate(x,T)\n",
    "    E_s.append(E_avg)\n",
    "    M_s.append(M_avg)\n",
    "    C_s.append(C)\n",
    "    Chi_s.append(Chi)\n",
    "#Running the metropolis algorithm on the state at different temperatures and plotting these"
   ]
  },
  {
   "cell_type": "code",
   "execution_count": null,
   "id": "f3556ed3-3f0a-46a5-8608-dc49607687b7",
   "metadata": {},
   "outputs": [],
   "source": [
    "plt.plot(temp,E_s, 'o--')\n",
    "plt.xlabel('$k_bT$')\n",
    "plt.ylabel('$E_{avg}$')"
   ]
  },
  {
   "cell_type": "code",
   "execution_count": null,
   "id": "6d6599c2-3ca2-4056-bcc8-59cb8692ed5d",
   "metadata": {},
   "outputs": [],
   "source": [
    "plt.plot(temp, Chi_s,'o--')\n",
    "plt.xlabel('$k_bT$')\n",
    "plt.ylabel('$\\chi$')"
   ]
  }
 ],
 "metadata": {
  "kernelspec": {
   "display_name": "Python 3 (ipykernel)",
   "language": "python",
   "name": "python3"
  },
  "language_info": {
   "codemirror_mode": {
    "name": "ipython",
    "version": 3
   },
   "file_extension": ".py",
   "mimetype": "text/x-python",
   "name": "python",
   "nbconvert_exporter": "python",
   "pygments_lexer": "ipython3",
   "version": "3.11.7"
  }
 },
 "nbformat": 4,
 "nbformat_minor": 5
}
