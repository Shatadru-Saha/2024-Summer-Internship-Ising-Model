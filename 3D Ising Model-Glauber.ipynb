{
 "cells": [
  {
   "cell_type": "code",
   "execution_count": null,
   "id": "462303f0-c2b6-4d6c-afcf-8c9edef4fa7f",
   "metadata": {},
   "outputs": [],
   "source": [
    "import numpy as np\n",
    "import matplotlib.pyplot as plt"
   ]
  },
  {
   "cell_type": "code",
   "execution_count": null,
   "id": "84b3f091-9f4b-4821-8fa4-050724a8794d",
   "metadata": {},
   "outputs": [],
   "source": [
    "N = 15 #sets the grid size \n",
    "x = np.random.rand(N,N,N)"
   ]
  },
  {
   "cell_type": "code",
   "execution_count": null,
   "id": "ec5bb4bd-beac-4043-b4ed-32799eb7fa10",
   "metadata": {},
   "outputs": [],
   "source": [
    "for i in range(0,N):\n",
    "    for j in range(0,N):\n",
    "        for k in range(0,N):\n",
    "            if x[i,j,k] < 0.5:\n",
    "                x[i,j,k]=1\n",
    "            else:\n",
    "                x[i,j,k]=-1 #Generates a T= inf state"
   ]
  },
  {
   "cell_type": "code",
   "execution_count": null,
   "id": "a68feef5-be24-4166-9cdc-c1e370cf0398",
   "metadata": {},
   "outputs": [],
   "source": [
    "x=np.ones((N,N,N)) # Generates a array with all +1; i.e , a T=0 state"
   ]
  },
  {
   "cell_type": "code",
   "execution_count": null,
   "id": "f4b13529-a4d9-4329-9460-159ca53b0ece",
   "metadata": {},
   "outputs": [],
   "source": [
    "# Gives us the energy associated with single spin\n",
    "def spin(i,j,k):\n",
    "    if i==N-1 and j==N-1 and k == N-1:\n",
    "        return x[i,j,k]*(x[i,j-1,k] + x[i,j,k-1] + x[i,0,k] + x[i,j,0] + x[i-1,j,k] + x[0,j,k]) \n",
    "    elif i==N-1 and j == N-1:\n",
    "        return x[i,j,k]*(x[i,j,k-1] + x[i,0,k] + x[i,j,k+1] + x[i,j-1,k]+ x[i-1,j,k] + x[0,j,k]) \n",
    "    elif i==N-1 and k == N-1:\n",
    "        return x[i,j,k]*(x[i,j,k-1] + x[i,j+1,k] + x[i,j,0] + x[i,j-1,k]+ x[i-1,j,k] + x[0,j,k])\n",
    "    elif j == N-1 and k == N-1:\n",
    "        return x[i,j,k]*(x[i,j,k-1] + x[i,0,k] + x[i,j,0] + x[i,j-1,k]+ x[i-1,j,k] + x[i+1,j,k])\n",
    "    elif i == N-1 :\n",
    "        return x[i,j,k]*(x[i,j,k-1] + x[i,j+1,k] + x[i,j,k+1] + x[i,j-1,k]+ x[i-1,j,k] + x[0,j,k])\n",
    "    elif j == N-1:\n",
    "        return x[i,j,k]*(x[i,j,k-1] + x[i,0,k] + x[i,j,k+1] + x[i,j-1,k]+ x[i-1,j,k] + x[i+1,j,k])\n",
    "    elif k == N-1:\n",
    "        return x[i,j,k]*(x[i,j,k-1] + x[i,j+1,k] + x[i,j,0] + x[i,j-1,k]+ x[i-1,j,k] + x[i+1,j,k])\n",
    "    else:\n",
    "        return x[i,j,k]*(x[i,j,k-1] + x[i,j+1,k] + x[i,j,k+1] + x[i,j-1,k]+ x[i-1,j,k] + x[i+1,j,k]) "
   ]
  },
  {
   "cell_type": "code",
   "execution_count": null,
   "id": "f1a3681d-7e6b-4edc-b599-49f9d8cfd445",
   "metadata": {},
   "outputs": [],
   "source": [
    "#Gives us the energy of the state\n",
    "def Energy(array):\n",
    "    Enn=0\n",
    "    for i in range(0,N):\n",
    "        for j in range(0,N): \n",
    "            for k in range(0,N):\n",
    "                Enn = Enn - spin(i,j,k)\n",
    "    return (1/2)*Enn\n",
    "    "
   ]
  },
  {
   "cell_type": "code",
   "execution_count": null,
   "id": "26a31682-6959-4be4-bab3-28b7a8d419ff",
   "metadata": {},
   "outputs": [],
   "source": [
    "#Gives us the magnetisation of the state\n",
    "def mag(array):\n",
    "    return array.sum()"
   ]
  },
  {
   "cell_type": "code",
   "execution_count": null,
   "id": "1ac76f95-8947-4075-a47f-e2b9e0420d4d",
   "metadata": {},
   "outputs": [],
   "source": [
    "#This function implements the metropolis algorithm and calculates the needed quantities\n",
    "def equilibrate(x,T):\n",
    "    H = Energy(x)\n",
    "    m = mag(x)\n",
    "    steps=0\n",
    "    E_plot=[H]\n",
    "    magnetisations=[m]\n",
    "    \n",
    "    for i in range(3*10**6):\n",
    "        p = np.random.randint(0,N)\n",
    "        q = np.random.randint(0,N)\n",
    "        r = np.random.randint(0,N)\n",
    "        spin_i=x[p,q,r]\n",
    "        steps = steps +1\n",
    "        dE = 2*spin(p,q,r)\n",
    "        if dE <=0:\n",
    "            x[p,q,r]=-x[p,q,r]\n",
    "            E_new = H + dE\n",
    "            m_new= m +(-2)*spin_i\n",
    "        else:\n",
    "            temp=np.random.rand()\n",
    "            prob = np.exp(-(dE)/T)\n",
    "            if temp < prob:\n",
    "                x[p,q,r]=-x[p,q,r]\n",
    "                E_new = H + dE\n",
    "                m_new= m +(-2)*spin_i\n",
    "            else:\n",
    "                E_new = H\n",
    "                m_new= m\n",
    "        H = E_new\n",
    "        m = m_new\n",
    "        E_plot.append(E_new)\n",
    "        magnetisations.append(m_new)\n",
    "        \n",
    "    E_calc = np.array(E_plot)\n",
    "    M_calc = np.array(magnetisations)\n",
    "\n",
    "    \n",
    "    return [E_calc, M_calc, x]\n"
   ]
  },
  {
   "cell_type": "code",
   "execution_count": null,
   "id": "fa8ec54c-c0df-4438-a0b8-c49aaacf2267",
   "metadata": {},
   "outputs": [],
   "source": [
    "#This function implements the metropolis algorithm and calculates the needed quantities\n",
    "def calculate(x,T):\n",
    "    H = Energy(x)\n",
    "    m = mag(x)\n",
    "    steps=0\n",
    "    E_plot=[H]\n",
    "    magnetisations=[m]\n",
    "    \n",
    "    for i in range(4*10**6):\n",
    "        p = np.random.randint(0,N)\n",
    "        q = np.random.randint(0,N)\n",
    "        r = np.random.randint(0,N)\n",
    "        spin_i=x[p,q,r]\n",
    "        steps = steps +1\n",
    "        dE = 2*spin(p,q,r)\n",
    "        if dE <=0:\n",
    "            x[p,q,r]=-x[p,q,r]\n",
    "            E_new = H + dE\n",
    "            m_new= m +(-2)*spin_i\n",
    "        else:\n",
    "            temp=np.random.rand()\n",
    "            prob = np.exp(-(dE)/T)\n",
    "            if temp < prob:\n",
    "                x[p,q,r]=-x[p,q,r]\n",
    "                E_new = H + dE\n",
    "                m_new= m +(-2)*spin_i\n",
    "            else:\n",
    "                E_new = H\n",
    "                m_new= m\n",
    "        H = E_new\n",
    "        m = m_new\n",
    "        E_plot.append(E_new)\n",
    "        magnetisations.append(m_new)\n",
    "        \n",
    "    E_calc = np.array(E_plot)\n",
    "    M_calc = np.array(magnetisations)\n",
    "    \n",
    "    E_avg= E_calc.mean()\n",
    "    C= E_calc.std()/(T**2)\n",
    "    M_avg= M_calc.mean()\n",
    "    Chi = M_calc.std()/T\n",
    "    \n",
    "    M_avg = M_avg/ (N**3)\n",
    "    \n",
    "    return [E_avg , M_avg, C, Chi]\n"
   ]
  },
  {
   "cell_type": "code",
   "execution_count": null,
   "id": "ff48a37c-8c87-4b85-b065-125afdad2155",
   "metadata": {},
   "outputs": [],
   "source": [
    "temp=np.arange(0.1,9,0.1) #Generating a set of temperatures "
   ]
  },
  {
   "cell_type": "code",
   "execution_count": null,
   "id": "86081174-6907-451d-b7f0-582a3ce7c4f0",
   "metadata": {},
   "outputs": [],
   "source": [
    "E_s=[]\n",
    "M_s=[]\n",
    "C_s=[]\n",
    "Chi_s=[]\n",
    "for T in temp:\n",
    "    A,B,x=equilibrate(x,T)\n",
    "    E_avg,M_avg, C, Chi=calculate(x,T)\n",
    "    E_s.append(E_avg)\n",
    "    M_s.append(M_avg)\n",
    "    C_s.append(C)\n",
    "    Chi_s.append(Chi)\n",
    "#Running the metropolis algorithm on the state at different temperatures"
   ]
  },
  {
   "cell_type": "code",
   "execution_count": null,
   "id": "f5b29677-3984-4009-9e61-3e1d3a853554",
   "metadata": {},
   "outputs": [],
   "source": [
    "plt.plot(temp,E_s, 'o--')\n",
    "plt.xlabel('$k_bT$')\n",
    "plt.ylabel('$E_{avg}$')"
   ]
  },
  {
   "cell_type": "code",
   "execution_count": null,
   "id": "a6d38414-2426-4a1f-b4f9-064c4119622c",
   "metadata": {},
   "outputs": [],
   "source": [
    "plt.plot(temp,M_s, 'o--')\n",
    "plt.xlabel('$k_bT$')\n",
    "plt.ylabel('$m_{avg}$')"
   ]
  },
  {
   "cell_type": "code",
   "execution_count": null,
   "id": "2b3f24c2-ea34-4064-847f-03c2e67fe12c",
   "metadata": {},
   "outputs": [],
   "source": [
    "plt.plot(temp, C_s,'o--')\n",
    "plt.xlabel('$k_bT$')\n",
    "plt.ylabel('Heat Capacity')"
   ]
  },
  {
   "cell_type": "code",
   "execution_count": null,
   "id": "684a2dbe-203b-47ec-be41-44c533505593",
   "metadata": {},
   "outputs": [],
   "source": [
    "plt.plot(temp, Chi_s,'o--')\n",
    "plt.xlabel('$k_bT$')\n",
    "plt.ylabel('$\\chi$')"
   ]
  },
  {
   "cell_type": "code",
   "execution_count": null,
   "id": "a686e773-ca53-4be2-9b30-754c58c3855f",
   "metadata": {},
   "outputs": [],
   "source": [
    "np.savez('3D_N={}'.format(N),En = E_s , Mag = M_s , HeatCap = C_s , MagSusc = Chi_s)"
   ]
  }
 ],
 "metadata": {
  "kernelspec": {
   "display_name": "Python 3 (ipykernel)",
   "language": "python",
   "name": "python3"
  },
  "language_info": {
   "codemirror_mode": {
    "name": "ipython",
    "version": 3
   },
   "file_extension": ".py",
   "mimetype": "text/x-python",
   "name": "python",
   "nbconvert_exporter": "python",
   "pygments_lexer": "ipython3",
   "version": "3.11.7"
  }
 },
 "nbformat": 4,
 "nbformat_minor": 5
}
